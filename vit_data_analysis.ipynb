{
  "cells": [
    {
      "cell_type": "code",
      "execution_count": null,
      "metadata": {
        "colab": {
          "background_save": true
        },
        "id": "FsdvFNcr4iFj"
      },
      "outputs": [],
      "source": [
        "from torch.utils.data import DataLoader\n",
        "from torch.utils.data import random_split\n",
        "\n",
        "train_split = int(0.8 * len(dataset))\n",
        "train, test = random_split(dataset, [train_split, len(dataset) - train_split])\n",
        "\n",
        "train_dataloader = DataLoader(train, batch_size=32, shuffle=True)\n",
        "test_dataloader = DataLoader(test, batch_size=32, shuffle=True)"
      ]
    },
    {
      "cell_type": "code",
      "execution_count": null,
      "metadata": {
        "colab": {
          "base_uri": "https://localhost:8080/"
        },
        "id": "N-Q_3rEJSOfA",
        "outputId": "6c88d66f-fb6a-4fa3-c78c-8610add43bad"
      },
      "outputs": [
        {
          "name": "stdout",
          "output_type": "stream",
          "text": [
            ">>> Epoch 0 train loss:  3.6508754025334897\n",
            ">>> Epoch 0 test loss:  3.6382168272267217\n",
            ">>> Epoch 5 train loss:  3.626315210176551\n",
            ">>> Epoch 5 test loss:  3.6225407641866934\n",
            ">>> Epoch 10 train loss:  3.620842220990554\n",
            ">>> Epoch 10 test loss:  3.625303620877473\n",
            ">>> Epoch 15 train loss:  3.621863606183425\n",
            ">>> Epoch 15 test loss:  3.62233012655507\n",
            ">>> Epoch 20 train loss:  3.6195932367573613\n",
            ">>> Epoch 20 test loss:  3.6210498187852944\n"
          ]
        }
      ],
      "source": [
        "import torch.optim as optim\n",
        "import numpy as np\n",
        "\n",
        "device = \"cuda\"\n",
        "model = ViT().to(device)\n",
        "optimizer = optim.AdamW(model.parameters(), lr=0.001)\n",
        "criterion = nn.CrossEntropyLoss()\n",
        "\n",
        "for epoch in range(1000):\n",
        "    epoch_losses = []\n",
        "    model.train()\n",
        "    for step, (inputs, labels) in enumerate(train_dataloader):\n",
        "        inputs, labels = inputs.to(device), labels.to(device)\n",
        "        optimizer.zero_grad()\n",
        "        outputs = model(inputs)\n",
        "        loss = criterion(outputs, labels)\n",
        "        loss.backward()\n",
        "        optimizer.step()\n",
        "        epoch_losses.append(loss.item())\n",
        "    if epoch % 5 == 0:\n",
        "        print(f\">>> Epoch {epoch} train loss: \", np.mean(epoch_losses))\n",
        "        epoch_losses = []\n",
        "        # Something was strange when using this?\n",
        "        # model.eval()\n",
        "        for step, (inputs, labels) in enumerate(test_dataloader):\n",
        "            inputs, labels = inputs.to(device), labels.to(device)\n",
        "            outputs = model(inputs)\n",
        "            loss = criterion(outputs, labels)\n",
        "            epoch_losses.append(loss.item())\n",
        "        print(f\">>> Epoch {epoch} test loss: \", np.mean(epoch_losses))"
      ]
    },
    {
      "cell_type": "code",
      "execution_count": null,
      "metadata": {
        "colab": {
          "base_uri": "https://localhost:8080/"
        },
        "id": "V7LkzG6fOt_k",
        "outputId": "10e5aacc-094a-4554-b4ec-4696fefaeae6"
      },
      "outputs": [
        {
          "name": "stdout",
          "output_type": "stream",
          "text": [
            "Predicted classes tensor([26, 33, 15, 33, 19, 15, 19, 19], device='cuda:0')\n",
            "Actual classes tensor([32, 22, 23, 23, 20, 13, 31, 12], device='cuda:0')\n"
          ]
        }
      ],
      "source": [
        "inputs, labels = next(iter(test_dataloader))\n",
        "inputs, labels = inputs.to(device), labels.to(device)\n",
        "outputs = model(inputs)\n",
        "\n",
        "print(\"Predicted classes\", outputs.argmax(-1))\n",
        "print(\"Actual classes\", labels)"
      ]
    }
  ],
  "metadata": {
    "accelerator": "GPU",
    "colab": {
      "provenance": []
    },
    "kernelspec": {
      "display_name": "Python 3",
      "name": "python3"
    },
    "language_info": {
      "name": "python"
    }
  },
  "nbformat": 4,
  "nbformat_minor": 0
}
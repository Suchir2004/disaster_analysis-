{
  "nbformat": 4,
  "nbformat_minor": 0,
  "metadata": {
    "colab": {
      "provenance": [],
      "authorship_tag": "ABX9TyOt+S6D+KKMIBk8F1L/VAUO"
    },
    "kernelspec": {
      "name": "python3",
      "display_name": "Python 3"
    },
    "language_info": {
      "name": "python"
    }
  },
  "cells": [
    {
      "cell_type": "code",
      "execution_count": 2,
      "metadata": {
        "colab": {
          "base_uri": "https://localhost:8080/"
        },
        "id": "-L0Z_Yxg7chW",
        "outputId": "874dc068-ccbc-492e-bda3-65f3f1f2954b"
      },
      "outputs": [
        {
          "output_type": "stream",
          "name": "stdout",
          "text": [
            "Mounted at /content/drive\n"
          ]
        }
      ],
      "source": [
        "from google.colab import drive\n",
        "drive.mount('/content/drive')\n",
        "\n"
      ]
    },
    {
      "cell_type": "code",
      "source": [
        "import os\n",
        "\n",
        "job_id = \"936719006\"\n",
        "base_path = f\"/content/drive/MyDrive/{job_id}\"\n",
        "\n",
        "years = [\"2024\", \"2025\"]\n",
        "journal_names = [\"Journal_Example_1\", \"Journal_Example_2\"]  # here i name the journal as ex 1 and ex 2\n",
        "\n",
        "# folder creates heree in drive\n",
        "for year in years:\n",
        "    year_path = os.path.join(base_path, year)\n",
        "    os.makedirs(year_path, exist_ok=True)\n",
        "    for journal in journal_names:\n",
        "        journal_path = os.path.join(year_path, journal)\n",
        "        os.makedirs(journal_path, exist_ok=True)\n"
      ],
      "metadata": {
        "id": "8JE0aFRH7g19"
      },
      "execution_count": 3,
      "outputs": []
    },
    {
      "cell_type": "code",
      "source": [
        "import requests\n",
        "\n",
        "pdf_url = \"https://revistas.udca.edu.co/index.php/ruadc/article/view/2951/3531\"  # sir here you paste the link\n",
        "pdf_path = f\"{base_path}/2025/Journal_Example_1/sample.pdf\"\n",
        "\n",
        "r = requests.get(pdf_url)\n",
        "with open(pdf_path, \"wb\") as f:\n",
        "    f.write(r.content)\n",
        "\n",
        "print(f\"Downloaded: {pdf_path}\")\n"
      ],
      "metadata": {
        "colab": {
          "base_uri": "https://localhost:8080/"
        },
        "id": "H1Yw2Lf974I1",
        "outputId": "895dae6b-357f-4077-9a91-76f8597ed41c"
      },
      "execution_count": 5,
      "outputs": [
        {
          "output_type": "stream",
          "name": "stdout",
          "text": [
            "Downloaded: /content/drive/MyDrive/936719006/2025/Journal_Example_1/sample.pdf\n"
          ]
        }
      ]
    },
    {
      "cell_type": "code",
      "source": [
        "#xml writing to metadata as we discuss during call in the evening\n",
        "import xml.etree.ElementTree as ET\n",
        "\n",
        "metadata = {\n",
        "    \"ArticleTitle\": \"Sample Title\",\n",
        "    \"Authors\": [{\"AuthorName\": \"John Doe\", \"Affiliation\": \"\"}],\n",
        "    \"Keywords\": \"\",\n",
        "    \"PDFName\": \"sample.pdf\",\n",
        "    \"FileSize\": str(os.path.getsize(pdf_path)),\n",
        "    \"PublicationYear\": \"2025\",\n",
        "    \"Volume\": \"\",\n",
        "    \"Issue\": \"\",\n",
        "    \"SourceID\": job_id,\n",
        "    \"ContentProvider\": \"\",\n",
        "    \"DOI\": \"10.1234/example.doi\",\n",
        "    \"PublisherItemType\": \"\",\n",
        "    \"StartPage\": \"\",\n",
        "    \"EndPage\": \"\",\n",
        "    \"PageRange\": \"\",\n",
        "    \"Abstract\": \"\",\n",
        "    \"References\": \"\"\n",
        "}\n",
        "\n",
        "root = ET.Element(\"ArticleMetadata\")\n",
        "\n",
        "for key, value in metadata.items():\n",
        "    if key == \"Authors\":\n",
        "        authors_elem = ET.SubElement(root, \"Authors\")\n",
        "        for author in value:\n",
        "            author_elem = ET.SubElement(authors_elem, \"Author\")\n",
        "            for subkey, subval in author.items():\n",
        "                ET.SubElement(author_elem, subkey).text = subval\n",
        "    else:\n",
        "        ET.SubElement(root, key).text = value\n",
        "\n",
        "tree = ET.ElementTree(root)\n",
        "xml_path = f\"{base_path}/2025/Journal_Example_1/metadata.xml\"\n",
        "tree.write(xml_path)\n",
        "\n",
        "print(f\"XML saved to {xml_path}\")\n"
      ],
      "metadata": {
        "colab": {
          "base_uri": "https://localhost:8080/"
        },
        "id": "qal3ia6C9Qs6",
        "outputId": "273eb9be-7281-4fcb-fbd8-8a3277ccc02d"
      },
      "execution_count": 6,
      "outputs": [
        {
          "output_type": "stream",
          "name": "stdout",
          "text": [
            "XML saved to /content/drive/MyDrive/936719006/2025/Journal_Example_1/metadata.xml\n"
          ]
        }
      ]
    },
    {
      "cell_type": "code",
      "source": [
        "#now a webpage for show case the result simple view as you mention in the given document in the indeed conversaation\n",
        "html_content = f\"\"\"\n",
        "<html>\n",
        "<head><title>{metadata['ArticleTitle']}</title></head>\n",
        "<body>\n",
        "<h1>{metadata['ArticleTitle']}</h1>\n",
        "<p><b>Authors:</b> {', '.join([a['AuthorName'] for a in metadata['Authors']])}</p>\n",
        "<p><b>DOI:</b> {metadata['DOI']}</p>\n",
        "<p><b>Publication Year:</b> {metadata['PublicationYear']}</p>\n",
        "</body>\n",
        "</html>\n",
        "\"\"\"\n",
        "\n",
        "html_path = f\"{base_path}/2025/Journal_Example_1/metadata.html\"\n",
        "with open(html_path, \"w\") as f:\n",
        "    f.write(html_content)\n",
        "\n",
        "print(f\"HTML saved to {html_path}\")\n"
      ],
      "metadata": {
        "colab": {
          "base_uri": "https://localhost:8080/"
        },
        "id": "-cJX6vLE9n85",
        "outputId": "5527630d-83ff-4ccf-8e05-709761cce987"
      },
      "execution_count": 7,
      "outputs": [
        {
          "output_type": "stream",
          "name": "stdout",
          "text": [
            "HTML saved to /content/drive/MyDrive/936719006/2025/Journal_Example_1/metadata.html\n"
          ]
        }
      ]
    },
    {
      "cell_type": "code",
      "source": [],
      "metadata": {
        "id": "iTBPWqiR9rKb"
      },
      "execution_count": null,
      "outputs": []
    }
  ]
}